{
 "cells": [
  {
   "cell_type": "markdown",
   "id": "a066c11f",
   "metadata": {},
   "source": [
    "# Análise Bidimensional\n",
    "\n",
    "Na análise de duas variáveis podemos ter as seguintes situações:\n",
    "- As duas variáveis são qualitativas;\n",
    "- As duas são quantitativas;\n",
    "- Um variável é qualitativa e outra quantitativa."
   ]
  },
  {
   "cell_type": "markdown",
   "id": "e34288b8",
   "metadata": {},
   "source": [
    "Quando temos dados qualitativos podem aparecer como frequências ou contagem de indivíduos que pertecem a categorias. Já quando temos dados quantitativos, técnicas como gráficos de dispersão ou quantis são apropriados.\n",
    "\n",
    "Quando temos uma variável quantitativa e outra qualitativa vamos analisar o que acontece com a variável quantitativa quando os dados são categorizados de acordo com os atributos da variável qualitativa."
   ]
  },
  {
   "cell_type": "markdown",
   "id": "64d0960a",
   "metadata": {},
   "source": [
    "# Variáveis Qualitativas"
   ]
  },
  {
   "cell_type": "code",
   "execution_count": 2,
   "id": "650889d6",
   "metadata": {},
   "outputs": [
    {
     "data": {
      "text/html": [
       "<div>\n",
       "<style scoped>\n",
       "    .dataframe tbody tr th:only-of-type {\n",
       "        vertical-align: middle;\n",
       "    }\n",
       "\n",
       "    .dataframe tbody tr th {\n",
       "        vertical-align: top;\n",
       "    }\n",
       "\n",
       "    .dataframe thead th {\n",
       "        text-align: right;\n",
       "    }\n",
       "</style>\n",
       "<table border=\"1\" class=\"dataframe\">\n",
       "  <thead>\n",
       "    <tr style=\"text-align: right;\">\n",
       "      <th></th>\n",
       "      <th>Região</th>\n",
       "      <th>Ensino Fundamental</th>\n",
       "      <th>Ensino Médio</th>\n",
       "      <th>Superior</th>\n",
       "      <th>Total</th>\n",
       "    </tr>\n",
       "  </thead>\n",
       "  <tbody>\n",
       "    <tr>\n",
       "      <th>0</th>\n",
       "      <td>Capital</td>\n",
       "      <td>4</td>\n",
       "      <td>3</td>\n",
       "      <td>5</td>\n",
       "      <td>11</td>\n",
       "    </tr>\n",
       "    <tr>\n",
       "      <th>1</th>\n",
       "      <td>Interior</td>\n",
       "      <td>5</td>\n",
       "      <td>7</td>\n",
       "      <td>6</td>\n",
       "      <td>12</td>\n",
       "    </tr>\n",
       "    <tr>\n",
       "      <th>2</th>\n",
       "      <td>Outra</td>\n",
       "      <td>2</td>\n",
       "      <td>2</td>\n",
       "      <td>2</td>\n",
       "      <td>13</td>\n",
       "    </tr>\n",
       "  </tbody>\n",
       "</table>\n",
       "</div>"
      ],
      "text/plain": [
       "     Região  Ensino Fundamental  Ensino Médio  Superior  Total\n",
       "0   Capital                   4             3         5     11\n",
       "1  Interior                   5             7         6     12\n",
       "2     Outra                   2             2         2     13"
      ]
     },
     "execution_count": 2,
     "metadata": {},
     "output_type": "execute_result"
    }
   ],
   "source": [
    "import pandas as pd\n",
    "import numpy as np\n",
    "data = {\n",
    "    'Região': ['Capital','Interior','Outra'],\n",
    "    'Ensino Fundamental': [4, 5, 2],\n",
    "    'Ensino Médio': [3, 7, 2],\n",
    "    'Superior': [5, 6, 2]\n",
    "}\n",
    "\n",
    "df = pd.DataFrame(data)\n",
    "\n",
    "colunas_numericas = ['Ensino Fundamental', 'Ensino Médio', 'Superior']\n",
    "soma_colunas = np.sum(df[colunas_numericas].values, axis=0)\n",
    "df['Total'] = soma_colunas\n",
    "\n",
    "df.head()"
   ]
  },
  {
   "cell_type": "markdown",
   "id": "6ef171d4",
   "metadata": {},
   "source": [
    "Existem três possibilidades de expressarmos a proporção de cada casela:\n",
    "- (a)\tem relação ao total geral; \n",
    "- (b)\tem relação ao total de cada linha; \n",
    "- (c)ou em relação ao total de cada coluna."
   ]
  },
  {
   "cell_type": "code",
   "execution_count": 3,
   "id": "36dde650",
   "metadata": {
    "scrolled": true
   },
   "outputs": [
    {
     "name": "stdout",
     "output_type": "stream",
     "text": [
      "          Ensino Fundamental  Ensino Médio   Superior\n",
      "Região                                               \n",
      "Capital            33.333333     25.000000  41.666667\n",
      "Interior           27.777778     38.888889  33.333333\n",
      "Outra              33.333333     33.333333  33.333333\n"
     ]
    }
   ],
   "source": [
    "def calcular_porcentagem(row):\n",
    "    total_regiao = row.sum()\n",
    "    porcentagem = row / total_regiao * 100\n",
    "    return porcentagem\n",
    "\n",
    "\n",
    "colunas_numericas = ['Ensino Fundamental', 'Ensino Médio', 'Superior']\n",
    "\n",
    "df_porcentagem = df.set_index('Região')[colunas_numericas].apply(calcular_porcentagem, axis=1)\n",
    "\n",
    "print(df_porcentagem)\n"
   ]
  },
  {
   "cell_type": "markdown",
   "id": "65dfa54a",
   "metadata": {},
   "source": [
    "# Associação entre Variáveis Qualitativas\n",
    "\n",
    "O objetivo de construir uma distribuição conjunta de duas variáveis qualitativas é descrever a associação entre elas, ou seja, conhecer o grau de dependência.\n",
    "Por exemplo, caso queira estimar a renda média de uma família moradadora de São Paulo, a informação sobre a classe social permite uma estimativa mais precisa da renda. Dado que existe dependência entre renda e classe social."
   ]
  },
  {
   "cell_type": "code",
   "execution_count": 52,
   "id": "c410272e",
   "metadata": {},
   "outputs": [],
   "source": [
    "alunos = {\n",
    "    'Curso': ['Economia','Adm'],\n",
    "    'Masculino': [85, 55],\n",
    "    'Feminino': [35, 25]\n",
    "}"
   ]
  },
  {
   "cell_type": "code",
   "execution_count": 53,
   "id": "d32c2e58",
   "metadata": {},
   "outputs": [],
   "source": [
    "#Criando o dataframe\n",
    "df_alunos = pd.DataFrame(alunos)\n",
    "df_alunos = df_alunos.set_index('Curso')"
   ]
  },
  {
   "cell_type": "code",
   "execution_count": 54,
   "id": "ee63186b",
   "metadata": {},
   "outputs": [
    {
     "data": {
      "text/html": [
       "<div>\n",
       "<style scoped>\n",
       "    .dataframe tbody tr th:only-of-type {\n",
       "        vertical-align: middle;\n",
       "    }\n",
       "\n",
       "    .dataframe tbody tr th {\n",
       "        vertical-align: top;\n",
       "    }\n",
       "\n",
       "    .dataframe thead th {\n",
       "        text-align: right;\n",
       "    }\n",
       "</style>\n",
       "<table border=\"1\" class=\"dataframe\">\n",
       "  <thead>\n",
       "    <tr style=\"text-align: right;\">\n",
       "      <th></th>\n",
       "      <th>Masculino</th>\n",
       "      <th>Feminino</th>\n",
       "      <th>Total</th>\n",
       "    </tr>\n",
       "    <tr>\n",
       "      <th>Curso</th>\n",
       "      <th></th>\n",
       "      <th></th>\n",
       "      <th></th>\n",
       "    </tr>\n",
       "  </thead>\n",
       "  <tbody>\n",
       "    <tr>\n",
       "      <th>Economia</th>\n",
       "      <td>85</td>\n",
       "      <td>35</td>\n",
       "      <td>120</td>\n",
       "    </tr>\n",
       "    <tr>\n",
       "      <th>Adm</th>\n",
       "      <td>55</td>\n",
       "      <td>25</td>\n",
       "      <td>80</td>\n",
       "    </tr>\n",
       "  </tbody>\n",
       "</table>\n",
       "</div>"
      ],
      "text/plain": [
       "          Masculino  Feminino  Total\n",
       "Curso                               \n",
       "Economia         85        35    120\n",
       "Adm              55        25     80"
      ]
     },
     "execution_count": 54,
     "metadata": {},
     "output_type": "execute_result"
    }
   ],
   "source": [
    "#Trazendo o total\n",
    "def total(row):\n",
    "    total = row.sum()\n",
    "    return total\n",
    "df_alunos['Total'] = df_alunos.apply(total,axis=1)\n",
    "df_alunos.head()"
   ]
  },
  {
   "cell_type": "code",
   "execution_count": 55,
   "id": "7308f85e",
   "metadata": {
    "scrolled": true
   },
   "outputs": [
    {
     "data": {
      "text/html": [
       "<div>\n",
       "<style scoped>\n",
       "    .dataframe tbody tr th:only-of-type {\n",
       "        vertical-align: middle;\n",
       "    }\n",
       "\n",
       "    .dataframe tbody tr th {\n",
       "        vertical-align: top;\n",
       "    }\n",
       "\n",
       "    .dataframe thead th {\n",
       "        text-align: right;\n",
       "    }\n",
       "</style>\n",
       "<table border=\"1\" class=\"dataframe\">\n",
       "  <thead>\n",
       "    <tr style=\"text-align: right;\">\n",
       "      <th></th>\n",
       "      <th>Masculino</th>\n",
       "      <th>Feminino</th>\n",
       "      <th>Total</th>\n",
       "    </tr>\n",
       "    <tr>\n",
       "      <th>Curso</th>\n",
       "      <th></th>\n",
       "      <th></th>\n",
       "      <th></th>\n",
       "    </tr>\n",
       "  </thead>\n",
       "  <tbody>\n",
       "    <tr>\n",
       "      <th>Economia</th>\n",
       "      <td>0.607143</td>\n",
       "      <td>0.583333</td>\n",
       "      <td>0.6</td>\n",
       "    </tr>\n",
       "    <tr>\n",
       "      <th>Adm</th>\n",
       "      <td>0.392857</td>\n",
       "      <td>0.416667</td>\n",
       "      <td>0.4</td>\n",
       "    </tr>\n",
       "  </tbody>\n",
       "</table>\n",
       "</div>"
      ],
      "text/plain": [
       "          Masculino  Feminino  Total\n",
       "Curso                               \n",
       "Economia   0.607143  0.583333    0.6\n",
       "Adm        0.392857  0.416667    0.4"
      ]
     },
     "execution_count": 55,
     "metadata": {},
     "output_type": "execute_result"
    }
   ],
   "source": [
    "#Queremo verificar se existe associação entre o sexo e a carreira escolhida\n",
    "def percentual(row):\n",
    "    total = row.sum()\n",
    "    percentual = row/total\n",
    "    return percentual\n",
    "\n",
    "df_porcentagem = df_alunos.apply(percentual, axis=0)\n",
    "df_porcentagem.head()"
   ]
  },
  {
   "cell_type": "markdown",
   "id": "c6f27503",
   "metadata": {},
   "source": [
    "Analisando apenas Economia e adm, temos que independentemente do sexo 60% das pessoas preferem economia e 40% preferem administração. Não tendo dependência entre as variáveis esperaríamos as mesma proporções para cada sexo.\n",
    "\n",
    "As proporções do sexo masculino (61% e 39%) e do sexo feminino (58% e 42%) são próximas das marginais (60% e 40%). Parecem indicar não haver dependência entre as duas variáveis, para o conjunto de alunos considerado. "
   ]
  },
  {
   "cell_type": "code",
   "execution_count": 56,
   "id": "eb2dc2a1",
   "metadata": {
    "scrolled": true
   },
   "outputs": [
    {
     "data": {
      "text/html": [
       "<div>\n",
       "<style scoped>\n",
       "    .dataframe tbody tr th:only-of-type {\n",
       "        vertical-align: middle;\n",
       "    }\n",
       "\n",
       "    .dataframe tbody tr th {\n",
       "        vertical-align: top;\n",
       "    }\n",
       "\n",
       "    .dataframe thead th {\n",
       "        text-align: right;\n",
       "    }\n",
       "</style>\n",
       "<table border=\"1\" class=\"dataframe\">\n",
       "  <thead>\n",
       "    <tr style=\"text-align: right;\">\n",
       "      <th></th>\n",
       "      <th>Masculino</th>\n",
       "      <th>Feminino</th>\n",
       "      <th>Total</th>\n",
       "    </tr>\n",
       "    <tr>\n",
       "      <th>Curso</th>\n",
       "      <th></th>\n",
       "      <th></th>\n",
       "      <th></th>\n",
       "    </tr>\n",
       "  </thead>\n",
       "  <tbody>\n",
       "    <tr>\n",
       "      <th>Física</th>\n",
       "      <td>100</td>\n",
       "      <td>20</td>\n",
       "      <td>120</td>\n",
       "    </tr>\n",
       "    <tr>\n",
       "      <th>Ciências Sociais</th>\n",
       "      <td>40</td>\n",
       "      <td>40</td>\n",
       "      <td>80</td>\n",
       "    </tr>\n",
       "  </tbody>\n",
       "</table>\n",
       "</div>"
      ],
      "text/plain": [
       "                  Masculino  Feminino  Total\n",
       "Curso                                       \n",
       "Física                  100        20    120\n",
       "Ciências Sociais         40        40     80"
      ]
     },
     "execution_count": 56,
     "metadata": {},
     "output_type": "execute_result"
    }
   ],
   "source": [
    "#Analisandos os cursos de Física e Ciências Sociais\n",
    "alunos2 = {\n",
    "    'Curso': ['Física','Ciências Sociais'],\n",
    "    'Masculino': [100,40],\n",
    "    'Feminino': [20,40]\n",
    "}\n",
    "\n",
    "#Criando o dataframe\n",
    "df_alunos2 = pd.DataFrame(alunos2)\n",
    "df_alunos2 = df_alunos2.set_index('Curso')\n",
    "\n",
    "#Trazendo o total\n",
    "def total(row):\n",
    "    total = row.sum()\n",
    "    return total\n",
    "df_alunos2['Total'] = df_alunos2.apply(total,axis=1)\n",
    "df_alunos2.head()"
   ]
  },
  {
   "cell_type": "code",
   "execution_count": 57,
   "id": "a4bca4d7",
   "metadata": {
    "scrolled": true
   },
   "outputs": [
    {
     "data": {
      "text/html": [
       "<div>\n",
       "<style scoped>\n",
       "    .dataframe tbody tr th:only-of-type {\n",
       "        vertical-align: middle;\n",
       "    }\n",
       "\n",
       "    .dataframe tbody tr th {\n",
       "        vertical-align: top;\n",
       "    }\n",
       "\n",
       "    .dataframe thead th {\n",
       "        text-align: right;\n",
       "    }\n",
       "</style>\n",
       "<table border=\"1\" class=\"dataframe\">\n",
       "  <thead>\n",
       "    <tr style=\"text-align: right;\">\n",
       "      <th></th>\n",
       "      <th>Masculino</th>\n",
       "      <th>Feminino</th>\n",
       "      <th>Total</th>\n",
       "    </tr>\n",
       "    <tr>\n",
       "      <th>Curso</th>\n",
       "      <th></th>\n",
       "      <th></th>\n",
       "      <th></th>\n",
       "    </tr>\n",
       "  </thead>\n",
       "  <tbody>\n",
       "    <tr>\n",
       "      <th>Física</th>\n",
       "      <td>0.714286</td>\n",
       "      <td>0.333333</td>\n",
       "      <td>0.6</td>\n",
       "    </tr>\n",
       "    <tr>\n",
       "      <th>Ciências Sociais</th>\n",
       "      <td>0.285714</td>\n",
       "      <td>0.666667</td>\n",
       "      <td>0.4</td>\n",
       "    </tr>\n",
       "  </tbody>\n",
       "</table>\n",
       "</div>"
      ],
      "text/plain": [
       "                  Masculino  Feminino  Total\n",
       "Curso                                       \n",
       "Física             0.714286  0.333333    0.6\n",
       "Ciências Sociais   0.285714  0.666667    0.4"
      ]
     },
     "execution_count": 57,
     "metadata": {},
     "output_type": "execute_result"
    }
   ],
   "source": [
    "df_porcentagem2 = df_alunos2.apply(percentual, axis=0)\n",
    "df_porcentagem2.head()"
   ]
  },
  {
   "cell_type": "markdown",
   "id": "8ab4f6cb",
   "metadata": {},
   "source": [
    "Nos cursos de Física e Ciências temos outro cenário. Temos uma maior concetração de homens nos cursos de física e mulheres no cursos de ciências. Logo, nesse exemplo as variáveis parecem ser associadas.\n",
    "Quando existe associação entre variáveis, sempre é interessante quantificar essa associação!"
   ]
  },
  {
   "cell_type": "markdown",
   "id": "4434cfb9",
   "metadata": {},
   "source": [
    "#  Medidas de Associação entre Variáveis Qualitativas"
   ]
  },
  {
   "cell_type": "markdown",
   "id": "423f451b",
   "metadata": {},
   "source": [
    "O grau de associação entre duas variáveis é feito pela correlação. Essa medida descreve por meio de um único número a associação ou dependência entre duas variáveis. Essas coeficiente vai variar entre -1 e 1."
   ]
  },
  {
   "cell_type": "code",
   "execution_count": 58,
   "id": "025ff6a6",
   "metadata": {},
   "outputs": [],
   "source": [
    "#Vamos verificar se a criação de um determinado tipo de cooperativa está associada com algum fator regional.\n",
    "dados_cooperativas = {\n",
    "    'Estado': ['São Paulo','Paraná','Rio G. do Sul'],\n",
    "    'Consumidor': [214,51,111],\n",
    "    'Produtor': [237,102,304],\n",
    "    'Escola':[78,126,139],\n",
    "    'Outras':[119,22,48]\n",
    "}"
   ]
  },
  {
   "cell_type": "code",
   "execution_count": 68,
   "id": "6e0fa184",
   "metadata": {},
   "outputs": [
    {
     "data": {
      "text/html": [
       "<div>\n",
       "<style scoped>\n",
       "    .dataframe tbody tr th:only-of-type {\n",
       "        vertical-align: middle;\n",
       "    }\n",
       "\n",
       "    .dataframe tbody tr th {\n",
       "        vertical-align: top;\n",
       "    }\n",
       "\n",
       "    .dataframe thead th {\n",
       "        text-align: right;\n",
       "    }\n",
       "</style>\n",
       "<table border=\"1\" class=\"dataframe\">\n",
       "  <thead>\n",
       "    <tr style=\"text-align: right;\">\n",
       "      <th></th>\n",
       "      <th>Consumidor</th>\n",
       "      <th>Produtor</th>\n",
       "      <th>Escola</th>\n",
       "      <th>Outras</th>\n",
       "    </tr>\n",
       "    <tr>\n",
       "      <th>Estado</th>\n",
       "      <th></th>\n",
       "      <th></th>\n",
       "      <th></th>\n",
       "      <th></th>\n",
       "    </tr>\n",
       "  </thead>\n",
       "  <tbody>\n",
       "    <tr>\n",
       "      <th>São Paulo</th>\n",
       "      <td>214</td>\n",
       "      <td>237</td>\n",
       "      <td>78</td>\n",
       "      <td>119</td>\n",
       "    </tr>\n",
       "    <tr>\n",
       "      <th>Paraná</th>\n",
       "      <td>51</td>\n",
       "      <td>102</td>\n",
       "      <td>126</td>\n",
       "      <td>22</td>\n",
       "    </tr>\n",
       "    <tr>\n",
       "      <th>Rio G. do Sul</th>\n",
       "      <td>111</td>\n",
       "      <td>304</td>\n",
       "      <td>139</td>\n",
       "      <td>48</td>\n",
       "    </tr>\n",
       "  </tbody>\n",
       "</table>\n",
       "</div>"
      ],
      "text/plain": [
       "               Consumidor  Produtor  Escola  Outras\n",
       "Estado                                             \n",
       "São Paulo             214       237      78     119\n",
       "Paraná                 51       102     126      22\n",
       "Rio G. do Sul         111       304     139      48"
      ]
     },
     "execution_count": 68,
     "metadata": {},
     "output_type": "execute_result"
    }
   ],
   "source": [
    "df_co = pd.DataFrame(dados_cooperativas)\n",
    "df_co = df_co.set_index('Estado')\n",
    "df_co.head()"
   ]
  },
  {
   "cell_type": "code",
   "execution_count": 70,
   "id": "fbf14234",
   "metadata": {
    "scrolled": false
   },
   "outputs": [
    {
     "data": {
      "text/html": [
       "<div>\n",
       "<style scoped>\n",
       "    .dataframe tbody tr th:only-of-type {\n",
       "        vertical-align: middle;\n",
       "    }\n",
       "\n",
       "    .dataframe tbody tr th {\n",
       "        vertical-align: top;\n",
       "    }\n",
       "\n",
       "    .dataframe thead th {\n",
       "        text-align: right;\n",
       "    }\n",
       "</style>\n",
       "<table border=\"1\" class=\"dataframe\">\n",
       "  <thead>\n",
       "    <tr style=\"text-align: right;\">\n",
       "      <th></th>\n",
       "      <th>Consumidor</th>\n",
       "      <th>Produtor</th>\n",
       "      <th>Escola</th>\n",
       "      <th>Outras</th>\n",
       "    </tr>\n",
       "    <tr>\n",
       "      <th>Estado</th>\n",
       "      <th></th>\n",
       "      <th></th>\n",
       "      <th></th>\n",
       "      <th></th>\n",
       "    </tr>\n",
       "  </thead>\n",
       "  <tbody>\n",
       "    <tr>\n",
       "      <th>São Paulo</th>\n",
       "      <td>0.330247</td>\n",
       "      <td>0.365741</td>\n",
       "      <td>0.120370</td>\n",
       "      <td>0.183642</td>\n",
       "    </tr>\n",
       "    <tr>\n",
       "      <th>Paraná</th>\n",
       "      <td>0.169435</td>\n",
       "      <td>0.338870</td>\n",
       "      <td>0.418605</td>\n",
       "      <td>0.073090</td>\n",
       "    </tr>\n",
       "    <tr>\n",
       "      <th>Rio G. do Sul</th>\n",
       "      <td>0.184385</td>\n",
       "      <td>0.504983</td>\n",
       "      <td>0.230897</td>\n",
       "      <td>0.079734</td>\n",
       "    </tr>\n",
       "  </tbody>\n",
       "</table>\n",
       "</div>"
      ],
      "text/plain": [
       "               Consumidor  Produtor    Escola    Outras\n",
       "Estado                                                 \n",
       "São Paulo        0.330247  0.365741  0.120370  0.183642\n",
       "Paraná           0.169435  0.338870  0.418605  0.073090\n",
       "Rio G. do Sul    0.184385  0.504983  0.230897  0.079734"
      ]
     },
     "execution_count": 70,
     "metadata": {},
     "output_type": "execute_result"
    }
   ],
   "source": [
    "#Percentual\n",
    "df_co_porcentagem = df_co.apply(percentual, axis=1)\n",
    "df_co_porcentagem.head()"
   ]
  },
  {
   "cell_type": "code",
   "execution_count": 78,
   "id": "d6d64716",
   "metadata": {},
   "outputs": [
    {
     "data": {
      "text/plain": [
       "Consumidor    0.242424\n",
       "Produtor      0.414571\n",
       "Escola        0.221148\n",
       "Outras        0.121857\n",
       "Name: Total, dtype: float64"
      ]
     },
     "execution_count": 78,
     "metadata": {},
     "output_type": "execute_result"
    }
   ],
   "source": [
    "# Calcular o total de cada coluna\n",
    "total_colunas = df_co.sum()\n",
    "\n",
    "# Adicionar uma linha com o total de cada coluna\n",
    "df_co.loc['Total'] = total_colunas\n",
    "\n",
    "# Calcular o percentual de cada valor em relação ao total geral\n",
    "df_percentual = df_co / total_colunas.sum()\n",
    "\n",
    "df_percentual.loc['Total']"
   ]
  },
  {
   "cell_type": "markdown",
   "id": "f82c43f0",
   "metadata": {},
   "source": [
    "Vemos dependências entre as variáveis. Casi não houvesse associação, eera esparado tivéssemos uma cooperativa de : \n",
    "- Consumidor    0.242424\n",
    "- Produtor      0.414571\n",
    "- Escola        0.221148\n",
    "- Outras        0.121857\n",
    "\n",
    "Então São Paulo seria, 648*24 = 157 consumidores. Tendo valores reais bem discrepantes dos reais."
   ]
  },
  {
   "cell_type": "markdown",
   "id": "d9737e7c",
   "metadata": {},
   "source": [
    "# Associação entre Variáveis Quantitativas\n",
    "Podem ser resumi- da em tabelas de dupla entrada e, por meio das distribuições marginais, é possível estudar a associação das variáveis.\n",
    "\n",
    "Algumas vezes, para evitar um grande número de entradas, agrupamos os dados marginais em intervalos de classes, de modo semelhante ao resumo feito no caso unidimensional. Mas, além desse tipo de aná- lise, as variáveis quantitativas são passíveis de procedimentos analíticos e gráficos mais refinados.\n",
    "\n",
    "Um dispositivo bastante útil para se verificar a associação entre duas variáveis quantitativas, ou entre dois conjuntos de dados, é o gráfico de dispersão"
   ]
  },
  {
   "cell_type": "code",
   "execution_count": 80,
   "id": "0acbd3e4",
   "metadata": {},
   "outputs": [
    {
     "data": {
      "text/html": [
       "<div>\n",
       "<style scoped>\n",
       "    .dataframe tbody tr th:only-of-type {\n",
       "        vertical-align: middle;\n",
       "    }\n",
       "\n",
       "    .dataframe tbody tr th {\n",
       "        vertical-align: top;\n",
       "    }\n",
       "\n",
       "    .dataframe thead th {\n",
       "        text-align: right;\n",
       "    }\n",
       "</style>\n",
       "<table border=\"1\" class=\"dataframe\">\n",
       "  <thead>\n",
       "    <tr style=\"text-align: right;\">\n",
       "      <th></th>\n",
       "      <th>Renda</th>\n",
       "      <th>Metros Quadrados</th>\n",
       "    </tr>\n",
       "  </thead>\n",
       "  <tbody>\n",
       "    <tr>\n",
       "      <th>0</th>\n",
       "      <td>1235</td>\n",
       "      <td>118</td>\n",
       "    </tr>\n",
       "    <tr>\n",
       "      <th>1</th>\n",
       "      <td>6192</td>\n",
       "      <td>146</td>\n",
       "    </tr>\n",
       "    <tr>\n",
       "      <th>2</th>\n",
       "      <td>1905</td>\n",
       "      <td>136</td>\n",
       "    </tr>\n",
       "    <tr>\n",
       "      <th>3</th>\n",
       "      <td>8813</td>\n",
       "      <td>191</td>\n",
       "    </tr>\n",
       "    <tr>\n",
       "      <th>4</th>\n",
       "      <td>3895</td>\n",
       "      <td>187</td>\n",
       "    </tr>\n",
       "  </tbody>\n",
       "</table>\n",
       "</div>"
      ],
      "text/plain": [
       "   Renda  Metros Quadrados\n",
       "0   1235               118\n",
       "1   6192               146\n",
       "2   1905               136\n",
       "3   8813               191\n",
       "4   3895               187"
      ]
     },
     "execution_count": 80,
     "metadata": {},
     "output_type": "execute_result"
    }
   ],
   "source": [
    "import pandas as pd\n",
    "import numpy as np\n",
    "\n",
    "# Dados fictícios\n",
    "np.random.seed(1)\n",
    "renda = np.random.randint(1000, 10000, size=20)  # Renda em reais\n",
    "metros_quadrados = np.random.randint(50, 200, size=20)  # Metros quadrados\n",
    "\n",
    "# Criar DataFrame\n",
    "dados = {\n",
    "    'Renda': renda,\n",
    "    'Metros Quadrados': metros_quadrados\n",
    "}\n",
    "df = pd.DataFrame(dados)\n",
    "df.head()"
   ]
  },
  {
   "cell_type": "code",
   "execution_count": 85,
   "id": "9ef95e60",
   "metadata": {
    "scrolled": true
   },
   "outputs": [
    {
     "data": {
      "image/png": "[encoded data removed]",
      "text/plain": [
       "<Figure size 640x480 with 1 Axes>"
      ]
     },
     "metadata": {},
     "output_type": "display_data"
    }
   ],
   "source": [
    "import matplotlib.pyplot as plt\n",
    "\n",
    "plt.scatter(df['Renda'],df['Metros Quadrados'])\n",
    "plt.show()"
   ]
  },
  {
   "cell_type": "code",
   "execution_count": 87,
   "id": "ca072782",
   "metadata": {},
   "outputs": [
    {
     "data": {
      "text/plain": [
       "-0.009099791805313718"
      ]
     },
     "execution_count": 87,
     "metadata": {},
     "output_type": "execute_result"
    }
   ],
   "source": [
    "correlacao =df['Renda'].corr(df['Metros Quadrados'])\n",
    "correlacao"
   ]
  },
  {
   "cell_type": "code",
   "execution_count": 91,
   "id": "265405f5",
   "metadata": {
    "scrolled": true
   },
   "outputs": [
    {
     "data": {
      "text/html": [
       "<div>\n",
       "<style scoped>\n",
       "    .dataframe tbody tr th:only-of-type {\n",
       "        vertical-align: middle;\n",
       "    }\n",
       "\n",
       "    .dataframe tbody tr th {\n",
       "        vertical-align: top;\n",
       "    }\n",
       "\n",
       "    .dataframe thead th {\n",
       "        text-align: right;\n",
       "    }\n",
       "</style>\n",
       "<table border=\"1\" class=\"dataframe\">\n",
       "  <thead>\n",
       "    <tr style=\"text-align: right;\">\n",
       "      <th></th>\n",
       "      <th>Matematica</th>\n",
       "      <th>Ciencias</th>\n",
       "    </tr>\n",
       "  </thead>\n",
       "  <tbody>\n",
       "    <tr>\n",
       "      <th>0</th>\n",
       "      <td>66</td>\n",
       "      <td>10</td>\n",
       "    </tr>\n",
       "    <tr>\n",
       "      <th>1</th>\n",
       "      <td>92</td>\n",
       "      <td>22</td>\n",
       "    </tr>\n",
       "    <tr>\n",
       "      <th>2</th>\n",
       "      <td>98</td>\n",
       "      <td>77</td>\n",
       "    </tr>\n",
       "    <tr>\n",
       "      <th>3</th>\n",
       "      <td>17</td>\n",
       "      <td>18</td>\n",
       "    </tr>\n",
       "    <tr>\n",
       "      <th>4</th>\n",
       "      <td>83</td>\n",
       "      <td>100</td>\n",
       "    </tr>\n",
       "  </tbody>\n",
       "</table>\n",
       "</div>"
      ],
      "text/plain": [
       "   Matematica  Ciencias\n",
       "0          66        10\n",
       "1          92        22\n",
       "2          98        77\n",
       "3          17        18\n",
       "4          83       100"
      ]
     },
     "execution_count": 91,
     "metadata": {},
     "output_type": "execute_result"
    }
   ],
   "source": [
    "notas_alunos = pd.read_csv(\"notas_alunos.csv\")\n",
    "notas_alunos.head()"
   ]
  },
  {
   "cell_type": "markdown",
   "id": "67729d6b",
   "metadata": {},
   "source": [
    "Queremos descobrir se existe alguma relação entre as disciplinas de matemática e ciencias."
   ]
  },
  {
   "cell_type": "code",
   "execution_count": 98,
   "id": "13f955a8",
   "metadata": {},
   "outputs": [
    {
     "name": "stdout",
     "output_type": "stream",
     "text": [
      "O indice de correlação das notas é: 0.31\n"
     ]
    },
    {
     "data": {
      "image/png": "[encoded data removed]",
      "text/plain": [
       "<Figure size 640x480 with 1 Axes>"
      ]
     },
     "metadata": {},
     "output_type": "display_data"
    }
   ],
   "source": [
    "# Separar as variáveis X e Y\n",
    "x = notas_alunos['Matematica']\n",
    "y = notas_alunos['Ciencias']\n",
    "\n",
    "# Plotar o gráfico de dispersão\n",
    "plt.scatter(x, y)\n",
    "plt.xlabel('Matematica')\n",
    "plt.ylabel('Ciencias')\n",
    "plt.title('Notas dos Alunos')\n",
    "\n",
    "# Calcular a correlação\n",
    "correlation = notas_alunos['Matematica'].corr(notas_alunos['Ciencias'])\n",
    "print(f\"O indice de correlação das notas é: {round(correlation,2)}\")"
   ]
  },
  {
   "cell_type": "markdown",
   "id": "807685e8",
   "metadata": {},
   "source": [
    " Vimos que o indice de correlação é menor que 0.5, mostrandos que temos uma baixa associação linear. Nesse caso, é necessário fazer a correção de escala e mudança de origem para obter uma medida de associação mais confiável."
   ]
  },
  {
   "cell_type": "code",
   "execution_count": 101,
   "id": "3c4044bf",
   "metadata": {},
   "outputs": [
    {
     "name": "stdout",
     "output_type": "stream",
     "text": [
      "Correlação (X, Y): 0.31\n"
     ]
    }
   ],
   "source": [
    "# Mudança da origem para o centro dispersão\n",
    "x_mean = np.mean(x)\n",
    "y_mean = np.mean(y)\n",
    "\n",
    "x_centered = [point - x_mean for point in x]\n",
    "y_centered = [point - y_mean for point in y]\n",
    "\n",
    "# Correção da escala\n",
    "x_std = np.std(x_centered)\n",
    "y_std = np.std(y_centered)\n",
    "x_scaled = [point / x_std for point in x_centered]\n",
    "y_scaled = [point / y_std for point in y_centered]\n",
    "\n",
    "# Cálculo da correlação\n",
    "correlation = np.mean(np.multiply(x_scaled, y_scaled))\n",
    "\n",
    "print(\"Correlação (X, Y):\", round(correlation,2))"
   ]
  },
  {
   "cell_type": "markdown",
   "id": "1dabe6e7",
   "metadata": {},
   "source": [
    "Mesmo com a correção os valor da correlação se manteve baixo. Mostrando que de fato há uma correlação fraca entre as duas variáveis."
   ]
  }
 ],
 "metadata": {
  "kernelspec": {
   "display_name": "Python 3 (ipykernel)",
   "language": "python",
   "name": "python3"
  },
  "language_info": {
   "codemirror_mode": {
    "name": "ipython",
    "version": 3
   },
   "file_extension": ".py",
   "mimetype": "text/x-python",
   "name": "python",
   "nbconvert_exporter": "python",
   "pygments_lexer": "ipython3",
   "version": "3.11.3"
  }
 },
 "nbformat": 4,
 "nbformat_minor": 5
}
