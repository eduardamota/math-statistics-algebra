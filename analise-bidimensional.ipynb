{
 "cells": [
  {
   "cell_type": "markdown",
   "id": "a066c11f",
   "metadata": {},
   "source": [
    "# Análise Bidimensional\n",
    "\n",
    "Na análise de duas variáveis podemos ter as seguintes situações:\n",
    "- As duas variáveis são qualitativas;\n",
    "- As duas são quantitativas;\n",
    "- Um variável é qualitativa e outra quantitativa."
   ]
  },
  {
   "cell_type": "markdown",
   "id": "e34288b8",
   "metadata": {},
   "source": [
    "Quando temos dados qualitativos podem aparecer como frequências ou contagem de indivíduos que pertecem a categorias. Já quando temos dados quantitativos, técnicas como gráficos de dispersão ou quantis são apropriados.\n",
    "\n",
    "Quando temos uma variável quantitativa e outra qualitativa vamos analisar o que acontece com a variável quantitativa quando os dados são categorizados de acordo com os atributos da variável qualitativa."
   ]
  },
  {
   "cell_type": "markdown",
   "id": "64d0960a",
   "metadata": {},
   "source": [
    "# Variáveis Qualitativas"
   ]
  },
  {
   "cell_type": "code",
   "execution_count": 11,
   "id": "650889d6",
   "metadata": {},
   "outputs": [
    {
     "data": {
      "text/html": [
       "<div>\n",
       "<style scoped>\n",
       "    .dataframe tbody tr th:only-of-type {\n",
       "        vertical-align: middle;\n",
       "    }\n",
       "\n",
       "    .dataframe tbody tr th {\n",
       "        vertical-align: top;\n",
       "    }\n",
       "\n",
       "    .dataframe thead th {\n",
       "        text-align: right;\n",
       "    }\n",
       "</style>\n",
       "<table border=\"1\" class=\"dataframe\">\n",
       "  <thead>\n",
       "    <tr style=\"text-align: right;\">\n",
       "      <th></th>\n",
       "      <th>Região</th>\n",
       "      <th>Ensino Fundamental</th>\n",
       "      <th>Ensino Médio</th>\n",
       "      <th>Superior</th>\n",
       "      <th>Total</th>\n",
       "    </tr>\n",
       "  </thead>\n",
       "  <tbody>\n",
       "    <tr>\n",
       "      <th>0</th>\n",
       "      <td>Capital</td>\n",
       "      <td>4</td>\n",
       "      <td>3</td>\n",
       "      <td>5</td>\n",
       "      <td>11</td>\n",
       "    </tr>\n",
       "    <tr>\n",
       "      <th>1</th>\n",
       "      <td>Interior</td>\n",
       "      <td>5</td>\n",
       "      <td>7</td>\n",
       "      <td>6</td>\n",
       "      <td>12</td>\n",
       "    </tr>\n",
       "    <tr>\n",
       "      <th>2</th>\n",
       "      <td>Outra</td>\n",
       "      <td>2</td>\n",
       "      <td>2</td>\n",
       "      <td>2</td>\n",
       "      <td>13</td>\n",
       "    </tr>\n",
       "  </tbody>\n",
       "</table>\n",
       "</div>"
      ],
      "text/plain": [
       "     Região  Ensino Fundamental  Ensino Médio  Superior  Total\n",
       "0   Capital                   4             3         5     11\n",
       "1  Interior                   5             7         6     12\n",
       "2     Outra                   2             2         2     13"
      ]
     },
     "execution_count": 11,
     "metadata": {},
     "output_type": "execute_result"
    }
   ],
   "source": [
    "import pandas as pd\n",
    "import numpy as np\n",
    "data = {\n",
    "    'Região': ['Capital','Interior','Outra'],\n",
    "    'Ensino Fundamental': [4, 5, 2],\n",
    "    'Ensino Médio': [3, 7, 2],\n",
    "    'Superior': [5, 6, 2]\n",
    "}\n",
    "\n",
    "df = pd.DataFrame(data)\n",
    "\n",
    "colunas_numericas = ['Ensino Fundamental', 'Ensino Médio', 'Superior']\n",
    "soma_colunas = np.sum(df[colunas_numericas].values, axis=0)\n",
    "df['Total'] = soma_colunas\n",
    "\n",
    "df.head()"
   ]
  },
  {
   "cell_type": "markdown",
   "id": "6ef171d4",
   "metadata": {},
   "source": [
    "Existem três possibilidades de expressarmos a proporção de cada casela:\n",
    "- (a)\tem relação ao total geral; \n",
    "- (b)\tem relação ao total de cada linha; \n",
    "- (c)ou em relação ao total de cada coluna."
   ]
  },
  {
   "cell_type": "code",
   "execution_count": 27,
   "id": "36dde650",
   "metadata": {},
   "outputs": [
    {
     "name": "stdout",
     "output_type": "stream",
     "text": [
      "          Ensino Fundamental  Ensino Médio   Superior\n",
      "Região                                               \n",
      "Capital            31.506849     24.657534  43.835616\n",
      "Interior           38.888889     23.148148  37.962963\n",
      "Outra              44.444444     41.666667  13.888889\n"
     ]
    }
   ],
   "source": [
    "def calcular_porcentagem(row):\n",
    "    total_regiao = row.sum()\n",
    "    porcentagem = row / total_regiao * 100\n",
    "    return porcentagem\n",
    "\n",
    "\n",
    "colunas_numericas = ['Ensino Fundamental', 'Ensino Médio', 'Superior']\n",
    "\n",
    "df_porcentagem = df.set_index('Região')[colunas_numericas].apply(calcular_porcentagem, axis=1)\n",
    "\n",
    "print(df_porcentagem)\n"
   ]
  },
  {
   "cell_type": "markdown",
   "id": "65dfa54a",
   "metadata": {},
   "source": [
    "Observamos que "
   ]
  }
 ],
 "metadata": {
  "kernelspec": {
   "display_name": "Python 3 (ipykernel)",
   "language": "python",
   "name": "python3"
  },
  "language_info": {
   "codemirror_mode": {
    "name": "ipython",
    "version": 3
   },
   "file_extension": ".py",
   "mimetype": "text/x-python",
   "name": "python",
   "nbconvert_exporter": "python",
   "pygments_lexer": "ipython3",
   "version": "3.11.3"
  }
 },
 "nbformat": 4,
 "nbformat_minor": 5
}
