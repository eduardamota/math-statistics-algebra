{
 "cells": [
  {
   "cell_type": "markdown",
   "id": "3c797dea",
   "metadata": {},
   "source": [
    "## Vetores \n",
    "\n",
    "O que são vetores?\n",
    "\n",
    "Podemos afirmar que objetos que podem ser somados ou multiplicados por um escalar para forma novos vetores."
   ]
  },
  {
   "cell_type": "markdown",
   "id": "3e6fc0a6",
   "metadata": {},
   "source": [
    "Exemplo 1:\n",
    "Se tivermos informações sobre pessoas, como altura, peso e idade, podemos representar esses dados como um vetor tridimensional:\n",
    "\n",
    "[altura, peso, idade]. Dessa forma, podemos visualizar um vetor tridimensional como uma lista de três números."
   ]
  },
  {
   "cell_type": "code",
   "execution_count": 3,
   "id": "2f7a47f5",
   "metadata": {},
   "outputs": [],
   "source": [
    "from typing import List\n",
    "\n",
    "Vector = List[float]"
   ]
  },
  {
   "cell_type": "code",
   "execution_count": 4,
   "id": "e5170150",
   "metadata": {},
   "outputs": [],
   "source": [
    "altura_peso_idade = [70,170,40]"
   ]
  },
  {
   "cell_type": "markdown",
   "id": "e9ee8408",
   "metadata": {},
   "source": [
    "Se eu tenho dois vetores v e w, caso os vetores tenham o mesmo tamanho teremos um vetor que o primeiro elemento será v[0] + w[0], o segundo será v[1] e w[1]... Logo sabemos que não podemos somar vetores com tamanhos diferentes."
   ]
  },
  {
   "cell_type": "markdown",
   "id": "b71698f6",
   "metadata": {},
   "source": [
    "Conseguimos realizar operação utilizando o zip para compactar os vetores e aplicar em uma list comprehension para adicionar os elemento."
   ]
  },
  {
   "cell_type": "code",
   "execution_count": 52,
   "id": "0556c407",
   "metadata": {},
   "outputs": [
    {
     "data": {
      "text/plain": [
       "[5, 7]"
      ]
     },
     "execution_count": 52,
     "metadata": {},
     "output_type": "execute_result"
    }
   ],
   "source": [
    "#Ex1\n",
    "\n",
    "def add(v: Vector, w:Vector) -> Vector:\n",
    "    \"\"\"Soma os elementos\"\"\"\n",
    "    assert len(v) == len(w)\n",
    "    return [v_i + w_i for v_i,w_i in zip(v,w)]\n",
    "\n",
    "add([2,3],[3,4])"
   ]
  },
  {
   "cell_type": "code",
   "execution_count": 53,
   "id": "ef6dd79a",
   "metadata": {},
   "outputs": [
    {
     "data": {
      "text/plain": [
       "[-1, -1]"
      ]
     },
     "execution_count": 53,
     "metadata": {},
     "output_type": "execute_result"
    }
   ],
   "source": [
    "#Ex2\n",
    "\n",
    "def add(v: Vector, w:Vector) -> Vector:\n",
    "    \"\"\"Subtrai os elementos\"\"\"\n",
    "    assert len(v) == len(w)\n",
    "    return [v_i - w_i for v_i,w_i in zip(v,w)]\n",
    "\n",
    "add([2,3],[3,4])"
   ]
  },
  {
   "cell_type": "markdown",
   "id": "a7015fdd",
   "metadata": {},
   "source": [
    "As vezes será necessário somar uma lista de vetores por componentes. Onde será necessário criar um vetor onde o primeiro elemento será a soma de todos os primeiros elementos e assim sucessivamente."
   ]
  },
  {
   "cell_type": "code",
   "execution_count": 54,
   "id": "7207b362",
   "metadata": {},
   "outputs": [],
   "source": [
    "def vector_sum(vectors: List[Vector]) -> Vector:\n",
    "    \"\"\"Soma de todos os elementos\"\"\"\n",
    "    assert vectors, \"nenhum vetor fornecido\"\n",
    "    \n",
    "    num_elementos = len(vectors[0])\n",
    "    assert all(len(v) == num_elementos for v in vectors)\n",
    "    return [sum(vector[i] for vector in vectors) for i in range(num_elementos)]"
   ]
  },
  {
   "cell_type": "code",
   "execution_count": 55,
   "id": "e4429873",
   "metadata": {},
   "outputs": [
    {
     "data": {
      "text/plain": [
       "[16, 20]"
      ]
     },
     "execution_count": 55,
     "metadata": {},
     "output_type": "execute_result"
    }
   ],
   "source": [
    " vector_sum([[1,2], [3,4],[5,6],[7,8]])"
   ]
  },
  {
   "cell_type": "markdown",
   "id": "ab1e53f0",
   "metadata": {},
   "source": [
    "Podemos também multiplicar os vetores por um escalar, a operação é simples, basta multiplicar cada elemento do vetor pelo escalar."
   ]
  },
  {
   "cell_type": "code",
   "execution_count": 56,
   "id": "7790c399",
   "metadata": {},
   "outputs": [
    {
     "data": {
      "text/plain": [
       "[16, 18, 20]"
      ]
     },
     "execution_count": 56,
     "metadata": {},
     "output_type": "execute_result"
    }
   ],
   "source": [
    "def mult_escalar(c: float, v: Vector) -> Vector:\n",
    "    \"\"\"Multiplicação de um vetor por um escalar\"\"\"\n",
    "    return[ c*v for v in v]\n",
    "mult_escalar(2, [8,9,10])"
   ]
  },
  {
   "cell_type": "markdown",
   "id": "067a6955",
   "metadata": {},
   "source": [
    "Podemos também fazer a média dos valores da lista de vetores."
   ]
  },
  {
   "cell_type": "code",
   "execution_count": 57,
   "id": "e7e428f4",
   "metadata": {},
   "outputs": [],
   "source": [
    "def avg_vetores (v: List[Vector]) -> Vector:\n",
    "    \"\"\"Média dos valores que estão na lista dos vetores\"\"\"\n",
    "    n = len(v)\n",
    "    return [sum(v_i)/n for v_i in v]"
   ]
  },
  {
   "cell_type": "code",
   "execution_count": 58,
   "id": "496f1bb6",
   "metadata": {},
   "outputs": [
    {
     "data": {
      "text/plain": [
       "[4.0, 3.0, 6.0]"
      ]
     },
     "execution_count": 58,
     "metadata": {},
     "output_type": "execute_result"
    }
   ],
   "source": [
    "avg_vetores([[2, 4, 6], [1, 3, 5], [3, 6, 9]])\n"
   ]
  },
  {
   "cell_type": "markdown",
   "id": "3c045bc7",
   "metadata": {},
   "source": [
    "O produto escalar é uma operação matemática que combina dois vetores para produzir um único valor. Ele é usado para medir a relação entre dois vetores e é definido como a soma dos produtos dos elementos correspondentes dos vetores. O resultado do produto escalar é um número real.\n"
   ]
  },
  {
   "cell_type": "code",
   "execution_count": 60,
   "id": "8dbdfdf9",
   "metadata": {},
   "outputs": [
    {
     "data": {
      "text/plain": [
       "4"
      ]
     },
     "execution_count": 60,
     "metadata": {},
     "output_type": "execute_result"
    }
   ],
   "source": [
    "def dot(v: Vector, w: Vector) -> float:\n",
    "    assert len(v) == len (w)\n",
    "    return sum(v_i * w_i for v_i,w_i in zip(v,w))\n",
    "dot([1,1],[2,2])"
   ]
  },
  {
   "cell_type": "code",
   "execution_count": 61,
   "id": "7fe30069",
   "metadata": {},
   "outputs": [
    {
     "data": {
      "text/plain": [
       "8"
      ]
     },
     "execution_count": 61,
     "metadata": {},
     "output_type": "execute_result"
    }
   ],
   "source": [
    "def sum_squares(v: Vector) -> float:\n",
    "    return dot(v,v)\n",
    "sum_squares([2,2])"
   ]
  },
  {
   "cell_type": "markdown",
   "id": "13016769",
   "metadata": {},
   "source": [
    "Podemos utilizar a soma dos quadrados para pegar a magnitude do vetor, ou seja, pegar seu comprimento. "
   ]
  },
  {
   "cell_type": "code",
   "execution_count": 62,
   "id": "6e21f57a",
   "metadata": {},
   "outputs": [
    {
     "data": {
      "text/plain": [
       "5.0"
      ]
     },
     "execution_count": 62,
     "metadata": {},
     "output_type": "execute_result"
    }
   ],
   "source": [
    "import math\n",
    "def magnitude(v: Vector) -> float:\n",
    "    return math.sqrt(sum_squares(v))\n",
    "magnitude([3, 4])"
   ]
  },
  {
   "cell_type": "markdown",
   "id": "2fe91086",
   "metadata": {},
   "source": [
    "Definindo o comprimento do vetor, conseguimos pegar a distância entre os dois vetores."
   ]
  },
  {
   "cell_type": "code",
   "execution_count": 41,
   "id": "bdf7d8d8",
   "metadata": {
    "scrolled": true
   },
   "outputs": [
    {
     "data": {
      "image/png": "[encoded data removed]",
      "text/plain": [
       "<PIL.WebPImagePlugin.WebPImageFile image mode=RGB size=227x120>"
      ]
     },
     "execution_count": 41,
     "metadata": {},
     "output_type": "execute_result"
    }
   ],
   "source": [
    "from PIL import Image\n",
    "foto = Image.open('formula.png')\n",
    "foto"
   ]
  },
  {
   "cell_type": "code",
   "execution_count": 69,
   "id": "28825a97",
   "metadata": {},
   "outputs": [
    {
     "data": {
      "text/plain": [
       "2.23606797749979"
      ]
     },
     "execution_count": 69,
     "metadata": {},
     "output_type": "execute_result"
    }
   ],
   "source": [
    "import math\n",
    "\n",
    "def squared_distance(v: Vector, w: Vector) -> float:\n",
    "    return sum_squares(subtract(v, w))\n",
    "\n",
    "def distance(v: Vector, w: Vector) -> float:\n",
    "    return math.sqrt(squared_distance(v, w))\n",
    "\n",
    "def distance(v: Vector, w: Vector) -> float:\n",
    "    return magnitude(subtract(v, w))\n",
    "magnitude([1,2])"
   ]
  },
  {
   "cell_type": "markdown",
   "id": "945cb872",
   "metadata": {},
   "source": [
    "## Matrizes\n",
    "\n",
    "De forma simples podemos definir uma matriz como uma \"tabela\" de números organizadas em linhas e colunas. Cada número de uma matriz é chamado de elemento.\n",
    "\n",
    "Representamos matrizes como listas de listas, onde as listas internas terão o mesmo tamanho e vão representar as linhas da nossa matriz. Se temos por exemplo uma matriz A, então A[i][j] é o elemento na linha i e coluna j.\n"
   ]
  },
  {
   "cell_type": "code",
   "execution_count": 73,
   "id": "e776bc24",
   "metadata": {},
   "outputs": [],
   "source": [
    "#Ex1\n",
    "Matrix = List[List[float]]\n",
    "\n",
    "A = [[1,2,3],  #Temos uma matriz 2x3, ou seja, duas linhas e 3 colunas\n",
    "    [4,5,6]]\n",
    "\n",
    "B = [[7,8], #Nesse exemplo temos uma matriz 3x2, ou seja 3 linhas e 2 colunas\n",
    "     [9,10],\n",
    "     [11,12]]"
   ]
  },
  {
   "cell_type": "markdown",
   "id": "51235670",
   "metadata": {},
   "source": [
    "Podemos usar o tamanho da lista para determinar o número de colunas e o número de elementos em cada sublista para determinar o número de linhas da matriz."
   ]
  },
  {
   "cell_type": "code",
   "execution_count": 77,
   "id": "d5e56664",
   "metadata": {},
   "outputs": [],
   "source": [
    "from typing import Tuple\n",
    "def shape(A: Matrix) -> Tuple[int,int]:\n",
    "    \"\"\"Retorna número de linhas e colunas\"\"\"\n",
    "    n_row = len(A)\n",
    "    n_cols = len(A[0]) if A else 0 #fazemos uma verificação se a matriz é vazia\n",
    "    return n_row, n_cols\n",
    "        "
   ]
  },
  {
   "cell_type": "code",
   "execution_count": 78,
   "id": "5f39723e",
   "metadata": {},
   "outputs": [
    {
     "data": {
      "text/plain": [
       "(3, 2)"
      ]
     },
     "execution_count": 78,
     "metadata": {},
     "output_type": "execute_result"
    }
   ],
   "source": [
    "shape([[7,8],\n",
    "     [9,10],\n",
    "     [11,12]])"
   ]
  },
  {
   "cell_type": "code",
   "execution_count": 79,
   "id": "64d9527f",
   "metadata": {},
   "outputs": [],
   "source": [
    "def get_row(A: Matrix,i:int) -> Vector:\n",
    "    return A[i] #Retorna linha i da A como um vetor\n",
    "\n",
    "def get_column(A: Matrix, j:int) -> Vector:\n",
    "    return [A_i[j] #Vai retornar cada elemento j da linha para cada linha\n",
    "            for A_i in A]"
   ]
  },
  {
   "cell_type": "code",
   "execution_count": 80,
   "id": "6386c76c",
   "metadata": {},
   "outputs": [],
   "source": [
    "from typing import Callable"
   ]
  },
  {
   "cell_type": "markdown",
   "id": "bb404240",
   "metadata": {},
   "source": [
    "A classe Callable é usada para anotar tipos de dados de objetos que são chamáveis, ou seja, que podem ser chamados como funções. É uma forma de indicar que um objeto pode ser invocado e tratado como uma função, mesmo que não seja uma função em si.\n",
    "\n",
    "Logo, podemos criar matrizes indicando a forma dos seus elementos."
   ]
  },
  {
   "cell_type": "code",
   "execution_count": 103,
   "id": "5c84e51a",
   "metadata": {},
   "outputs": [],
   "source": [
    "def make_matrix(num_rows: int,\n",
    "                num_cols: int,\n",
    "                entry_fn: Callable[[int, int], float]) -> Matrix:\n",
    "    return [[entry_fn(i, j)\n",
    "             for j in range(num_cols)] \n",
    "            for i in range(num_rows)]\n"
   ]
  },
  {
   "cell_type": "markdown",
   "id": "733161dd",
   "metadata": {},
   "source": [
    "A função abaixo vai criar uma função identidade "
   ]
  },
  {
   "cell_type": "code",
   "execution_count": 104,
   "id": "0097288e",
   "metadata": {
    "scrolled": true
   },
   "outputs": [
    {
     "data": {
      "text/plain": [
       "[[1.0, 0.0, 0.0, 0.0, 0.0, 0.0],\n",
       " [0.0, 1.0, 0.0, 0.0, 0.0, 0.0],\n",
       " [0.0, 0.0, 1.0, 0.0, 0.0, 0.0],\n",
       " [0.0, 0.0, 0.0, 1.0, 0.0, 0.0],\n",
       " [0.0, 0.0, 0.0, 0.0, 1.0, 0.0],\n",
       " [0.0, 0.0, 0.0, 0.0, 0.0, 1.0]]"
      ]
     },
     "execution_count": 104,
     "metadata": {},
     "output_type": "execute_result"
    }
   ],
   "source": [
    "def identity_matrix(n: int) -> Matrix:\n",
    "    return make_matrix(n, n, lambda i, j: 1.0 if i == j else 0.0)\n",
    "\n",
    "\n",
    "identity_matrix(6)"
   ]
  },
  {
   "cell_type": "markdown",
   "id": "35b40941",
   "metadata": {},
   "source": [
    "A representação da matriz de adjacência para as amizades é baseada em uma matriz quadrada, onde as linhas e colunas representam as pessoas. Cada elemento da matriz indica se duas pessoas são amigas ou não."
   ]
  },
  {
   "cell_type": "code",
   "execution_count": 106,
   "id": "f55b3f62",
   "metadata": {},
   "outputs": [],
   "source": [
    "friendships = [(0,1), (0,2), (1,2), (1,3), (2,3), (3,4), (4,5), (5,6), (5,7), (6,8), (7,8), (8,9)]\n"
   ]
  },
  {
   "cell_type": "markdown",
   "id": "1db090e1",
   "metadata": {},
   "source": [
    "Temos as seguintes amizades:\n",
    "\n",
    "- A pessoa 0 é amiga da pessoa 1 e da pessoa 2.\n",
    "- A pessoa 1 é amiga da pessoa 0, pessoa 2 e pessoa 3.\n",
    "- A pessoa 2 é amiga da pessoa 0, pessoa 1 e pessoa 3.\n",
    "- A pessoa 3 é amiga da pessoa 1, pessoa 2 e pessoa 4.\n",
    "- A pessoa 4 é amiga da pessoa 3 e pessoa 5.\n",
    "- A pessoa 5 é amiga da pessoa 4, pessoa 6 e pessoa 7.\n",
    "- A pessoa 6 é amiga da pessoa 5 e pessoa 8.\n",
    "- A pessoa 7 é amiga da pessoa 5 e pessoa 8.\n",
    "- A pessoa 8 é amiga da pessoa 6, pessoa 7 e pessoa 9.\n",
    "- A pessoa 9 é amiga da pessoa 8."
   ]
  },
  {
   "cell_type": "markdown",
   "id": "bfbf4cfb",
   "metadata": {},
   "source": [
    "Para criar a matriz de adjacência, vamos percorrer todas as amizades e marcar os elementos correspondentes da matriz com 1, indicando a amizade entre as pessoas. Os elementos não mencionados serão preenchidos com 0, indicando a ausência de amizade."
   ]
  },
  {
   "cell_type": "code",
   "execution_count": 107,
   "id": "050a44e4",
   "metadata": {},
   "outputs": [
    {
     "name": "stdout",
     "output_type": "stream",
     "text": [
      "10\n"
     ]
    }
   ],
   "source": [
    "friendships = [(0,1), (0,2), (1,2), (1,3), (2,3), (3,4), (4,5), (5,6), (5,7), (6,8), (7,8), (8,9)]\n",
    "num_people = max(max(pair) for pair in friendships) + 1  # Obtem o número total de pessoas\n",
    "print(num_people)"
   ]
  },
  {
   "cell_type": "code",
   "execution_count": 105,
   "id": "c4afc7a4",
   "metadata": {},
   "outputs": [
    {
     "name": "stdout",
     "output_type": "stream",
     "text": [
      "[0, 1, 1, 0, 0, 0, 0, 0, 0, 0]\n",
      "[1, 0, 1, 1, 0, 0, 0, 0, 0, 0]\n",
      "[1, 1, 0, 1, 0, 0, 0, 0, 0, 0]\n",
      "[0, 1, 1, 0, 1, 0, 0, 0, 0, 0]\n",
      "[0, 0, 0, 1, 0, 1, 0, 0, 0, 0]\n",
      "[0, 0, 0, 0, 1, 0, 1, 1, 0, 0]\n",
      "[0, 0, 0, 0, 0, 1, 0, 0, 1, 0]\n",
      "[0, 0, 0, 0, 0, 1, 0, 0, 1, 0]\n",
      "[0, 0, 0, 0, 0, 0, 1, 1, 0, 1]\n",
      "[0, 0, 0, 0, 0, 0, 0, 0, 1, 0]\n"
     ]
    }
   ],
   "source": [
    "friendships = [(0,1), (0,2), (1,2), (1,3), (2,3), (3,4), (4,5), (5,6), (5,7), (6,8), (7,8), (8,9)]\n",
    "num_people = max(max(pair) for pair in friendships) + 1  # Obtem o número total de pessoas\n",
    "adj_matrix = [[0] * num_people for _ in range(num_people)]  # Inicializa a matriz com zeros\n",
    "\n",
    "# Preenche a matriz com as amizades\n",
    "for friend_a, friend_b in friendships:\n",
    "    adj_matrix[friend_a][friend_b] = 1\n",
    "    adj_matrix[friend_b][friend_a] = 1\n",
    "\n",
    "# Imprime a matriz\n",
    "for row in adj_matrix:\n",
    "    print(row)\n"
   ]
  }
 ],
 "metadata": {
  "kernelspec": {
   "display_name": "Python 3 (ipykernel)",
   "language": "python",
   "name": "python3"
  },
  "language_info": {
   "codemirror_mode": {
    "name": "ipython",
    "version": 3
   },
   "file_extension": ".py",
   "mimetype": "text/x-python",
   "name": "python",
   "nbconvert_exporter": "python",
   "pygments_lexer": "ipython3",
   "version": "3.11.3"
  }
 },
 "nbformat": 4,
 "nbformat_minor": 5
}
