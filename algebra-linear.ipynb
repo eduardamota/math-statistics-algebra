{
 "cells": [
  {
   "cell_type": "markdown",
   "id": "70362b22",
   "metadata": {},
   "source": [
    "## Vetores \n",
    "\n",
    "O que são vetores?\n",
    "\n",
    "Podemos afirmar que objetos que podem ser somados ou multiplicados por um escalar para forma novos vetores."
   ]
  },
  {
   "cell_type": "markdown",
   "id": "1ac6cf0a",
   "metadata": {},
   "source": [
    "Exemplo 1:\n",
    "Se tivermos informações sobre pessoas, como altura, peso e idade, podemos representar esses dados como um vetor tridimensional:\n",
    "\n",
    "[altura, peso, idade]. Dessa forma, podemos visualizar um vetor tridimensional como uma lista de três números."
   ]
  },
  {
   "cell_type": "code",
   "execution_count": 3,
   "id": "67098fd0",
   "metadata": {},
   "outputs": [],
   "source": [
    "from typing import List\n",
    "\n",
    "Vector = List[float]"
   ]
  },
  {
   "cell_type": "code",
   "execution_count": 4,
   "id": "f17835c1",
   "metadata": {},
   "outputs": [],
   "source": [
    "altura_peso_idade = [70,170,40]"
   ]
  },
  {
   "cell_type": "markdown",
   "id": "2b1cfd46",
   "metadata": {},
   "source": [
    "Se eu tenho dois vetores v e w, caso os vetores tenham o mesmo tamanho teremos um vetor que o primeiro elemento será v[0] + w[0], o segundo será v[1] e w[1]... Logo sabemos que não podemos somar vetores com tamanhos diferentes."
   ]
  },
  {
   "cell_type": "markdown",
   "id": "a3eb4bfa",
   "metadata": {},
   "source": [
    "Conseguimos realizar operação utilizando o zip para compactar os vetores e aplicar em uma list comprehension para adicionar os elemento."
   ]
  },
  {
   "cell_type": "code",
   "execution_count": 5,
   "id": "0fbc86f0",
   "metadata": {},
   "outputs": [
    {
     "data": {
      "text/plain": [
       "[5, 7]"
      ]
     },
     "execution_count": 5,
     "metadata": {},
     "output_type": "execute_result"
    }
   ],
   "source": [
    "#Ex1\n",
    "\n",
    "def add(v: Vector, w:Vector) -> Vector:\n",
    "    \"\"\"Soma os elementos\"\"\"\n",
    "    assert len(v) == len(w)\n",
    "    return [v_i + w_i for v_i,w_i in zip(v,w)]\n",
    "\n",
    "add([2,3],[3,4])"
   ]
  },
  {
   "cell_type": "code",
   "execution_count": 10,
   "id": "8fb7c551",
   "metadata": {},
   "outputs": [
    {
     "data": {
      "text/plain": [
       "[-1, -1]"
      ]
     },
     "execution_count": 10,
     "metadata": {},
     "output_type": "execute_result"
    }
   ],
   "source": [
    "#Ex2\n",
    "\n",
    "def add(v: Vector, w:Vector) -> Vector:\n",
    "    \"\"\"Subtrai os elementos\"\"\"\n",
    "    assert len(v) == len(w)\n",
    "    return [v_i - w_i for v_i,w_i in zip(v,w)]\n",
    "\n",
    "add([2,3],[3,4])"
   ]
  },
  {
   "cell_type": "markdown",
   "id": "b519ee03",
   "metadata": {},
   "source": []
  }
 ],
 "metadata": {
  "kernelspec": {
   "display_name": "Python 3 (ipykernel)",
   "language": "python",
   "name": "python3"
  },
  "language_info": {
   "codemirror_mode": {
    "name": "ipython",
    "version": 3
   },
   "file_extension": ".py",
   "mimetype": "text/x-python",
   "name": "python",
   "nbconvert_exporter": "python",
   "pygments_lexer": "ipython3",
   "version": "3.11.3"
  }
 },
 "nbformat": 4,
 "nbformat_minor": 5
}
