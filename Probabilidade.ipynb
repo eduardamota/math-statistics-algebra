{
 "cells": [
  {
   "cell_type": "markdown",
   "id": "dcc5bb8f",
   "metadata": {},
   "source": [
    "## Dependência e Independência "
   ]
  },
  {
   "cell_type": "markdown",
   "id": "1b9dbba4",
   "metadata": {},
   "source": [
    "Dizemos que os eventos (E e F) são dependentes quando sabemos algo sobre a ocorrência de E que nos dá informação sobre ocorrência de F.\n",
    "Ex: caso eu jogue uma moeada honesta duas vezes, se o primeiro resultado for cara, essa info não indica que o segundo também é cara. Esses eventos são independentes."
   ]
  },
  {
   "cell_type": "markdown",
   "id": "1e4477cd",
   "metadata": {},
   "source": [
    "Em termos matemáticos falamos que os dois eventos E e F são independentes se a probabilidade deles acontecerem é igual ao produto da probabilidade da ocorrência deles.\n",
    "\n",
    "P(E,F)=P(E)P(F)"
   ]
  },
  {
   "cell_type": "markdown",
   "id": "109df4f0",
   "metadata": {},
   "source": [
    "## Probabilidade Condicional "
   ]
  },
  {
   "cell_type": "markdown",
   "id": "42e743be",
   "metadata": {},
   "source": [
    "Definimos a probabilidade de um evento acontecer, caso outro aconteça como:\n",
    "\n",
    "    P(E|F) = P(E,F)/P(F)\n",
    "    P(E,F) = P(E|F)/P(F)\n",
    "    Se E e F são independentes, então P(E|F)=P(E)"
   ]
  },
  {
   "cell_type": "code",
   "execution_count": null,
   "id": "c2c6a9af",
   "metadata": {},
   "outputs": [],
   "source": [
    "#Enum é um conjunto tipado de valores enumerados\n",
    "import random\n",
    "import enum\n",
    "\n",
    "class Kid(enum.Enum):\n",
    "    BOY = 0\n",
    "    GIRL = 1\n",
    "\n",
    "def random_kid() -> Kid:\n",
    "    return random.choice([Kid.BOY, Kid.GIRL])\n",
    "\n",
    "both_girls = 0\n",
    "older_girl = 0\n",
    "either_girl = 0\n",
    "\n",
    "random.seed(0)\n",
    "\n",
    "for _ in range(10000):\n",
    "    younger = random_kid()\n",
    "    older = random_kid()\n",
    "    \n",
    "    if older == Kid.GIRL:\n",
    "        older_girl += 1\n",
    "    if older == Kid.GIRL and younger == Kid.GIRL:\n",
    "        both_girls += 1\n",
    "    if older == Kid.GIRL or younger == Kid.GIRL:\n",
    "        either_girl += 1\n",
    "\n",
    "print(\"p(both | older):\", both_girls / older_girl)\n",
    "print(\"p(both | either):\", both_girls / either_girl)\n"
   ]
  },
  {
   "cell_type": "markdown",
   "id": "41d1646f",
   "metadata": {},
   "source": [
    "## Teorema de Bayes "
   ]
  },
  {
   "cell_type": "markdown",
   "id": "774e2629",
   "metadata": {},
   "source": [
    "O teorema de Bayes relaciona a probabilidade condicional de um evento A ocorrer dado que um evento B ocorreu, com a probabilidade condicional de B ocorrer dado que A ocorreu. A fórmula do teorema de Bayes é a seguinte:\n",
    "\n",
    "P(A|B) = (P(B|A) * P(A)) / P(B)"
   ]
  }
 ],
 "metadata": {
  "kernelspec": {
   "display_name": "Python 3 (ipykernel)",
   "language": "python",
   "name": "python3"
  },
  "language_info": {
   "codemirror_mode": {
    "name": "ipython",
    "version": 3
   },
   "file_extension": ".py",
   "mimetype": "text/x-python",
   "name": "python",
   "nbconvert_exporter": "python",
   "pygments_lexer": "ipython3",
   "version": "3.11.3"
  }
 },
 "nbformat": 4,
 "nbformat_minor": 5
}
