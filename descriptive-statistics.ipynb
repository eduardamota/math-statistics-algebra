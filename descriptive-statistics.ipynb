{
 "cells": [
  {
   "cell_type": "markdown",
   "id": "4ae47f76",
   "metadata": {},
   "source": [
    "# Módulo 1 - Introduction to Statistics"
   ]
  },
  {
   "cell_type": "markdown",
   "id": "1ef05764",
   "metadata": {},
   "source": [
    "### Medidas de Posição"
   ]
  },
  {
   "cell_type": "markdown",
   "id": "dbe60a1e",
   "metadata": {},
   "source": [
    "- Moda: Valor mais frequente em um conjunto de dados;\n",
    "- Mediana: Posição mais central de um conjunto de dados;\n",
    "- Média: Soma das observações dividida pelo número de observações."
   ]
  },
  {
   "cell_type": "markdown",
   "id": "9ec0bb95",
   "metadata": {},
   "source": [
    " Para calcular a **moda** de uma variável precisamos apenas da frequência dessa variável, já a **mediana** é necessário ordenar as realizações. A **média** só pode ser calculada para variáveis quantitativas.\n",
    " \n",
    "Logo, para variáveis nominais só conseguimos trabalhar com a moda. Já as ordinais, conseguimos trabalhar com a moda e a mediana."
   ]
  },
  {
   "cell_type": "markdown",
   "id": "cb32dbf2",
   "metadata": {},
   "source": [
    " In January 1986, the space shuttle Challenger broke apart shortly after liftoff. The accident was caused by a part that was not designed to fly at the unusually cold temperature of 29◦ F at launch."
   ]
  },
  {
   "cell_type": "code",
   "execution_count": 1,
   "id": "926b97f7",
   "metadata": {},
   "outputs": [],
   "source": [
    "#Launch-temperatures of the first 25 shuttle missions\n",
    "launch_temperatures = [66,70,69,80,68,67,72,70,70,57,63,70,78,67,53,67,75,70,81,76,79,75,76,58,29]"
   ]
  },
  {
   "cell_type": "code",
   "execution_count": 2,
   "id": "a10bd387",
   "metadata": {},
   "outputs": [
    {
     "name": "stdout",
     "output_type": "stream",
     "text": [
      "Média 68.24, moda 70 e mediana 70\n"
     ]
    }
   ],
   "source": [
    "import statistics\n",
    "launch_temperatures_mean = statistics.mean(launch_temperatures)\n",
    "launch_temperatures_mode = statistics.median(launch_temperatures)\n",
    "launch_temperatures_median = statistics.mode(launch_temperatures)\n",
    "print(f\"Média {launch_temperatures_mean}, moda {launch_temperatures_mode} e mediana {launch_temperatures_median}\")\n",
    "\n"
   ]
  },
  {
   "cell_type": "markdown",
   "id": "1002985f",
   "metadata": {},
   "source": [
    "### Medidas de Dispersão"
   ]
  },
  {
   "cell_type": "markdown",
   "id": "829ff583",
   "metadata": {},
   "source": [
    "Uma única medida de posição pode não fornecer informações suficientes sobre a variabilidade de um conjunto de observações. O exemplo abaixo ilustra essa situação:"
   ]
  },
  {
   "cell_type": "code",
   "execution_count": 3,
   "id": "9be919ab",
   "metadata": {},
   "outputs": [],
   "source": [
    "notas ={  \n",
    "    'x':[3, 4, 5, 6, 7],\n",
    "    'y':[1, 3, 5, 7, 9],\n",
    "    'z':[5, 5, 5, 5, 5],\n",
    "    'w':[3, 5, 5, 7,None],\n",
    "    'v':[3, 5, 5, 6, 6]\n",
    "}"
   ]
  },
  {
   "cell_type": "code",
   "execution_count": 4,
   "id": "f6a836a7",
   "metadata": {},
   "outputs": [
    {
     "data": {
      "text/html": [
       "<div>\n",
       "<style scoped>\n",
       "    .dataframe tbody tr th:only-of-type {\n",
       "        vertical-align: middle;\n",
       "    }\n",
       "\n",
       "    .dataframe tbody tr th {\n",
       "        vertical-align: top;\n",
       "    }\n",
       "\n",
       "    .dataframe thead th {\n",
       "        text-align: right;\n",
       "    }\n",
       "</style>\n",
       "<table border=\"1\" class=\"dataframe\">\n",
       "  <thead>\n",
       "    <tr style=\"text-align: right;\">\n",
       "      <th></th>\n",
       "      <th>x</th>\n",
       "      <th>y</th>\n",
       "      <th>z</th>\n",
       "      <th>w</th>\n",
       "      <th>v</th>\n",
       "    </tr>\n",
       "  </thead>\n",
       "  <tbody>\n",
       "    <tr>\n",
       "      <th>0</th>\n",
       "      <td>3</td>\n",
       "      <td>1</td>\n",
       "      <td>5</td>\n",
       "      <td>3.0</td>\n",
       "      <td>3</td>\n",
       "    </tr>\n",
       "    <tr>\n",
       "      <th>1</th>\n",
       "      <td>4</td>\n",
       "      <td>3</td>\n",
       "      <td>5</td>\n",
       "      <td>5.0</td>\n",
       "      <td>5</td>\n",
       "    </tr>\n",
       "    <tr>\n",
       "      <th>2</th>\n",
       "      <td>5</td>\n",
       "      <td>5</td>\n",
       "      <td>5</td>\n",
       "      <td>5.0</td>\n",
       "      <td>5</td>\n",
       "    </tr>\n",
       "    <tr>\n",
       "      <th>3</th>\n",
       "      <td>6</td>\n",
       "      <td>7</td>\n",
       "      <td>5</td>\n",
       "      <td>7.0</td>\n",
       "      <td>6</td>\n",
       "    </tr>\n",
       "    <tr>\n",
       "      <th>4</th>\n",
       "      <td>7</td>\n",
       "      <td>9</td>\n",
       "      <td>5</td>\n",
       "      <td>NaN</td>\n",
       "      <td>6</td>\n",
       "    </tr>\n",
       "  </tbody>\n",
       "</table>\n",
       "</div>"
      ],
      "text/plain": [
       "   x  y  z    w  v\n",
       "0  3  1  5  3.0  3\n",
       "1  4  3  5  5.0  5\n",
       "2  5  5  5  5.0  5\n",
       "3  6  7  5  7.0  6\n",
       "4  7  9  5  NaN  6"
      ]
     },
     "execution_count": 4,
     "metadata": {},
     "output_type": "execute_result"
    }
   ],
   "source": [
    "import pandas as pd\n",
    "df_notas = pd.DataFrame(notas)\n",
    "df_notas.head()"
   ]
  },
  {
   "cell_type": "code",
   "execution_count": 5,
   "id": "ac3dce72",
   "metadata": {},
   "outputs": [
    {
     "data": {
      "text/plain": [
       "x    5.0\n",
       "y    5.0\n",
       "z    5.0\n",
       "w    5.0\n",
       "v    5.0\n",
       "dtype: float64"
      ]
     },
     "execution_count": 5,
     "metadata": {},
     "output_type": "execute_result"
    }
   ],
   "source": [
    "df_notas.mean()"
   ]
  },
  {
   "cell_type": "markdown",
   "id": "8fd3fb26",
   "metadata": {},
   "source": [
    "Ao analisar os conjuntos de dados x, y, z, w e v, podemos observar que a a média é igual a 5 em todos os casos, isso não fornece informações sobre suas diferentes variabilidades. É importante considerar medidas que resumam a variabilidade de um conjunto de observações, permitindo-nos comparar conjuntos de valores diferentes de acordo com critérios estabelecidos. Duas medidas amplamente utilizadas para esse propósito são o desvio médio e a variância."
   ]
  },
  {
   "cell_type": "code",
   "execution_count": 6,
   "id": "b83e9d21",
   "metadata": {
    "scrolled": true
   },
   "outputs": [
    {
     "name": "stdout",
     "output_type": "stream",
     "text": [
      "0   -2.0\n",
      "1   -1.0\n",
      "2    0.0\n",
      "3    1.0\n",
      "4    2.0\n",
      "Name: x, dtype: float64\n"
     ]
    }
   ],
   "source": [
    "desvio_medio = df_notas['x'] - df_notas['x'].mean()\n",
    "print(desvio_medio)\n"
   ]
  },
  {
   "cell_type": "markdown",
   "id": "9fcac162",
   "metadata": {},
   "source": [
    "No exemplo dado para o grupo A, os desvios em relação à média são -2, -1, 0, 1, 2. É importante notar que a soma desses desvios é sempre igual a zero para qualquer conjunto de dados. Isso ocorre porque os valores acima da média são compensados pelos valores abaixo da média, resultando em um cancelamento e uma soma total igual a zero.\n",
    "\n",
    "Porém, apenas a soma dos desvios não é uma medida adequada de dispersão, pois acaba se anulando. Nesse caso, não conseguimos ter uma noção clara da variabilidade dos dados."
   ]
  },
  {
   "cell_type": "code",
   "execution_count": 7,
   "id": "487a78b5",
   "metadata": {
    "scrolled": true
   },
   "outputs": [
    {
     "data": {
      "text/plain": [
       "x    1.581139\n",
       "y    3.162278\n",
       "z    0.000000\n",
       "w    1.632993\n",
       "v    1.224745\n",
       "dtype: float64"
      ]
     },
     "execution_count": 7,
     "metadata": {},
     "output_type": "execute_result"
    }
   ],
   "source": [
    "df_notas.std()"
   ]
  },
  {
   "cell_type": "markdown",
   "id": "ff8fc878",
   "metadata": {},
   "source": [
    "Portanto, podemos concluir que, com base nos desvios padrão, as colunas 'y', 'w' e 'v' possuem uma maior dispersão em relação à média, enquanto as colunas 'x' e 'z' têm uma dispersão menor ou nula (todos os valores são iguais)."
   ]
  },
  {
   "cell_type": "markdown",
   "id": "0f90b28c",
   "metadata": {},
   "source": [
    "### Quantis Empíricos "
   ]
  },
  {
   "cell_type": "markdown",
   "id": "9a321348",
   "metadata": {},
   "source": [
    "A média e o desvio padrão podem não ser adequados para representar um conjunto de dados, uma vez que:\n",
    "- São afetados por valores extremos;\n",
    "- Com apenas esse dois valores não conseguimos ter ideia da simetria ou assimetria do conjunto de dados."
   ]
  },
  {
   "cell_type": "markdown",
   "id": "42fd938b",
   "metadata": {},
   "source": [
    "Os quantis são medidas que nos permitem dividir os dados em partes iguais com base em uma proporção específica. Por exemplo, se falamos do quantil de ordem 0.5 (ou 50%), isso significa que metade dos dados está abaixo desse valor e metade está acima.\n",
    "\n",
    "Podemos usar quantis para dividir os dados em diferentes proporções. Por exemplo, o quantil de ordem 0.25 (ou 25%) nos dá um valor tal que 25% dos dados estão abaixo dele e 75% estão acima. Da mesma forma, o quantil de ordem 0.75 (ou 75%) nos dá um valor em que 75% dos dados estão abaixo e 25% estão acima.\n",
    "\n",
    "Em resumo, os quantis nos ajudam a entender como os dados estão distribuídos e como eles se comparam em relação a diferentes proporções. Eles nos permitem identificar valores que se encontram em diferentes partes da distribuição."
   ]
  },
  {
   "cell_type": "code",
   "execution_count": 8,
   "id": "119fa57e",
   "metadata": {},
   "outputs": [
    {
     "name": "stdout",
     "output_type": "stream",
     "text": [
      "[2, 3, 5, 7, 8, 10, 11, 12, 15]\n"
     ]
    }
   ],
   "source": [
    "lista1 = [15, 5, 3, 8, 10, 2, 7, 11, 12]\n",
    "lista1.sort()\n",
    "print(lista1)"
   ]
  },
  {
   "cell_type": "code",
   "execution_count": 9,
   "id": "b45d6761",
   "metadata": {},
   "outputs": [
    {
     "name": "stdout",
     "output_type": "stream",
     "text": [
      "Primeiro quartil:5.0 \n",
      "Segundo quartil 8.0 \n",
      "Teceiro Quartil: 11.0\n"
     ]
    }
   ],
   "source": [
    "import numpy as np\n",
    "q1 = np.percentile(lista1,25)\n",
    "q2 = np.percentile(lista1,50)\n",
    "q3 = np.percentile(lista1,75)\n",
    "\n",
    "print(f\"Primeiro quartil:{q1} \\nSegundo quartil {q2} \\nTeceiro Quartil: {q3}\")"
   ]
  },
  {
   "cell_type": "code",
   "execution_count": 10,
   "id": "3779519b",
   "metadata": {},
   "outputs": [
    {
     "name": "stdout",
     "output_type": "stream",
     "text": [
      "8.11\n"
     ]
    }
   ],
   "source": [
    "media_lista1 = round(np.mean(lista1),2)\n",
    "print(media_lista1)"
   ]
  },
  {
   "cell_type": "markdown",
   "id": "a5595dde",
   "metadata": {},
   "source": [
    "Podemos observar que a média é muito próxima a mediana."
   ]
  },
  {
   "cell_type": "code",
   "execution_count": 11,
   "id": "084f665a",
   "metadata": {},
   "outputs": [
    {
     "name": "stdout",
     "output_type": "stream",
     "text": [
      "[2, 3, 5, 7, 8, 10, 11, 12, 15, 67]\n"
     ]
    }
   ],
   "source": [
    "#Nesse exemplo vamos acrescentar o valor 67 no conjunto de dados\n",
    "lista2 = [15, 5, 3, 8, 10, 2, 7, 11, 12,67]\n",
    "lista2.sort()\n",
    "print(lista2)"
   ]
  },
  {
   "cell_type": "code",
   "execution_count": 12,
   "id": "673d63ce",
   "metadata": {},
   "outputs": [
    {
     "name": "stdout",
     "output_type": "stream",
     "text": [
      "Mediana:9.0 \n",
      "Media:14.0\n"
     ]
    }
   ],
   "source": [
    "mediana_lista2 = np.percentile(lista2,50)\n",
    "media_lista2 = round(np.mean(lista2),2)\n",
    "print(f\"Mediana:{mediana_lista2} \\nMedia:{media_lista2}\")"
   ]
  },
  {
   "cell_type": "markdown",
   "id": "2b965e25",
   "metadata": {},
   "source": [
    "A mediana está relativamente próxima à mediana dos valores originais, porém distante da média dos valores atuais. Com isso, podemos observar claramente que a mediana não é muito afetada pelo valor discrepante que foi adicionado, **67**."
   ]
  },
  {
   "cell_type": "code",
   "execution_count": 13,
   "id": "8be34cd6",
   "metadata": {
    "scrolled": true
   },
   "outputs": [
    {
     "name": "stdout",
     "output_type": "stream",
     "text": [
      "Primeiro Quartil:5.5 \n",
      "Terceiro Quartil:11.75\n"
     ]
    }
   ],
   "source": [
    "lista2_q1 = np.percentile(lista2,25)\n",
    "lista2_q3 = np.percentile(lista2,75)\n",
    "print(f\"Primeiro Quartil:{lista2_q1} \\nTerceiro Quartil:{lista2_q3}\")"
   ]
  },
  {
   "cell_type": "markdown",
   "id": "e315d506",
   "metadata": {},
   "source": [
    "Uma boa medida de dispersão é o intervalo interquaril, ou seja:\n",
    "\n",
    "    dq = q3 - q1"
   ]
  },
  {
   "cell_type": "code",
   "execution_count": 15,
   "id": "30cd99cd",
   "metadata": {},
   "outputs": [
    {
     "data": {
      "text/plain": [
       "6.25"
      ]
     },
     "execution_count": 15,
     "metadata": {},
     "output_type": "execute_result"
    }
   ],
   "source": [
    "d1 = lista2_q3 - lista2_q1\n",
    "d1"
   ]
  },
  {
   "cell_type": "markdown",
   "id": "d1de56d0",
   "metadata": {},
   "source": [
    "Uma distribuição simétrica ou aproximadamente simétrica é aquela em que os dados estão igualmente distribuídos em relação à sua mediana (q2). Nesse caso, as distâncias entre os quartis (q1, q2, q3) são iguais ou aproximadamente iguais."
   ]
  },
  {
   "cell_type": "markdown",
   "id": "b5907cd8",
   "metadata": {},
   "source": [
    "Sabendo que X(n) é representa o valor máximo de uma distribuição e X(1) um valor de mínimo, para ter ums distribuição simétrica, devemos ter:\n",
    "- q2 - x(1) ~= x(n) - q2 \n",
    "- q2 - q1   ~= q3 - q2;\n",
    "- q1 - x(1) ~= x(n) - q3;\n",
    "- distâncias entre mediana e q1, q3 menores do que distâncias entre os extremos e q1, q3.\n",
    "\n",
    " q2 - x(1) é chamada dispersão inferior e x(n) - q2 é a dispersão superior.\n"
   ]
  },
  {
   "cell_type": "markdown",
   "id": "1e2414b4",
   "metadata": {},
   "source": [
    "Com base nas medidas de quartis (q1, q3) e no intervalo interquartil (dq), podemos calcular os limites superior e inferior para identificar possíveis outliers. Esses limites são calculados da seguinte forma:\n",
    "\n",
    "- Limite Superior (LS) = q3 + (1,5 * dq)\n",
    "- Limite Inferior (LI) = q1 - (1,5 * dq)\n",
    "\n",
    "Esses limites definem uma faixa em torno dos quartis que é usada para identificar valores que estão significativamente acima (no caso do LS) ou abaixo (no caso do LI) da distribuição geral dos dados.\n",
    "\n",
    "Os valores que estão acima do limite superior ou abaixo do limite inferior são considerados pontos exteriores, também conhecidos como outliers. Esses pontos podem ser indicativos de valores atípicos ou discrepantes em relação ao restante dos dados e podem requerer uma análise mais aprofundada para determinar se são resultados corretos ou erros."
   ]
  }
 ],
 "metadata": {
  "kernelspec": {
   "display_name": "Python 3 (ipykernel)",
   "language": "python",
   "name": "python3"
  },
  "language_info": {
   "codemirror_mode": {
    "name": "ipython",
    "version": 3
   },
   "file_extension": ".py",
   "mimetype": "text/x-python",
   "name": "python",
   "nbconvert_exporter": "python",
   "pygments_lexer": "ipython3",
   "version": "3.11.3"
  }
 },
 "nbformat": 4,
 "nbformat_minor": 5
}
