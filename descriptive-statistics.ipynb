{
 "cells": [
  {
   "cell_type": "markdown",
   "id": "4ae47f76",
   "metadata": {},
   "source": [
    "# Módulo 1 - Introduction to Statistics"
   ]
  },
  {
   "cell_type": "markdown",
   "id": "400f94ae",
   "metadata": {},
   "source": [
    "### Medidas de Posição"
   ]
  },
  {
   "cell_type": "markdown",
   "id": "2ecd35a9",
   "metadata": {},
   "source": [
    "- Moda: Valor mais frequente em um conjunto de dados;\n",
    "- Mediana: Posição mais central de um conjunto de dados;\n",
    "- Média: Soma das observações dividida pelo número de observações."
   ]
  },
  {
   "cell_type": "markdown",
   "id": "58de8d2e",
   "metadata": {},
   "source": [
    " Para calcular a **moda** de uma variável precisamos apenas da frequência dessa variável, já a **mediana** é necessário ordenar as realizações. A **média** só pode ser calculada para variáveis quantitativas.\n",
    " \n",
    "Logo, para variáveis nominais só conseguimos trabalhar com a moda. Já as ordinais, conseguimos trabalhar com a moda e a mediana."
   ]
  },
  {
   "cell_type": "markdown",
   "id": "cb32dbf2",
   "metadata": {},
   "source": [
    " In January 1986, the space shuttle Challenger broke apart shortly after liftoff. The accident was caused by a part that was not designed to fly at the unusually cold temperature of 29◦ F at launch."
   ]
  },
  {
   "cell_type": "code",
   "execution_count": 1,
   "id": "6425909c",
   "metadata": {},
   "outputs": [],
   "source": [
    "#Launch-temperatures of the first 25 shuttle missions\n",
    "launch_temperatures = [66,70,69,80,68,67,72,70,70,57,63,70,78,67,53,67,75,70,81,76,79,75,76,58,29]"
   ]
  },
  {
   "cell_type": "code",
   "execution_count": 14,
   "id": "a10bd387",
   "metadata": {},
   "outputs": [
    {
     "name": "stdout",
     "output_type": "stream",
     "text": [
      "Média 68.24, moda 70 e mediana 70\n"
     ]
    }
   ],
   "source": [
    "import statistics\n",
    "launch_temperatures_mean = statistics.mean(launch_temperatures)\n",
    "launch_temperatures_mode = statistics.median(launch_temperatures)\n",
    "launch_temperatures_median = statistics.mode(launch_temperatures)\n",
    "print(f\"Média {launch_temperatures_mean}, moda {launch_temperatures_mode} e mediana {launch_temperatures_median}\")\n",
    "\n"
   ]
  },
  {
   "cell_type": "markdown",
   "id": "efa54298",
   "metadata": {},
   "source": [
    "### Medidas de Dispersão"
   ]
  },
  {
   "cell_type": "markdown",
   "id": "199932b3",
   "metadata": {},
   "source": [
    "Uma única medida de posição pode não fornecer informações suficientes sobre a variabilidade de um conjunto de observações. O exemplo abaixo ilustra essa situação:"
   ]
  },
  {
   "cell_type": "code",
   "execution_count": 22,
   "id": "fbf92021",
   "metadata": {},
   "outputs": [],
   "source": [
    "notas ={  \n",
    "    'x':[3, 4, 5, 6, 7],\n",
    "    'y':[1, 3, 5, 7, 9],\n",
    "    'z':[5, 5, 5, 5, 5],\n",
    "    'w':[3, 5, 5, 7,None],\n",
    "    'v':[3, 5, 5, 6, 6]\n",
    "}"
   ]
  },
  {
   "cell_type": "code",
   "execution_count": 25,
   "id": "4f2e10f1",
   "metadata": {},
   "outputs": [
    {
     "data": {
      "text/html": [
       "<div>\n",
       "<style scoped>\n",
       "    .dataframe tbody tr th:only-of-type {\n",
       "        vertical-align: middle;\n",
       "    }\n",
       "\n",
       "    .dataframe tbody tr th {\n",
       "        vertical-align: top;\n",
       "    }\n",
       "\n",
       "    .dataframe thead th {\n",
       "        text-align: right;\n",
       "    }\n",
       "</style>\n",
       "<table border=\"1\" class=\"dataframe\">\n",
       "  <thead>\n",
       "    <tr style=\"text-align: right;\">\n",
       "      <th></th>\n",
       "      <th>x</th>\n",
       "      <th>y</th>\n",
       "      <th>z</th>\n",
       "      <th>w</th>\n",
       "      <th>v</th>\n",
       "    </tr>\n",
       "  </thead>\n",
       "  <tbody>\n",
       "    <tr>\n",
       "      <th>0</th>\n",
       "      <td>3</td>\n",
       "      <td>1</td>\n",
       "      <td>5</td>\n",
       "      <td>3.0</td>\n",
       "      <td>3</td>\n",
       "    </tr>\n",
       "    <tr>\n",
       "      <th>1</th>\n",
       "      <td>4</td>\n",
       "      <td>3</td>\n",
       "      <td>5</td>\n",
       "      <td>5.0</td>\n",
       "      <td>5</td>\n",
       "    </tr>\n",
       "    <tr>\n",
       "      <th>2</th>\n",
       "      <td>5</td>\n",
       "      <td>5</td>\n",
       "      <td>5</td>\n",
       "      <td>5.0</td>\n",
       "      <td>5</td>\n",
       "    </tr>\n",
       "    <tr>\n",
       "      <th>3</th>\n",
       "      <td>6</td>\n",
       "      <td>7</td>\n",
       "      <td>5</td>\n",
       "      <td>7.0</td>\n",
       "      <td>6</td>\n",
       "    </tr>\n",
       "    <tr>\n",
       "      <th>4</th>\n",
       "      <td>7</td>\n",
       "      <td>9</td>\n",
       "      <td>5</td>\n",
       "      <td>NaN</td>\n",
       "      <td>6</td>\n",
       "    </tr>\n",
       "  </tbody>\n",
       "</table>\n",
       "</div>"
      ],
      "text/plain": [
       "   x  y  z    w  v\n",
       "0  3  1  5  3.0  3\n",
       "1  4  3  5  5.0  5\n",
       "2  5  5  5  5.0  5\n",
       "3  6  7  5  7.0  6\n",
       "4  7  9  5  NaN  6"
      ]
     },
     "execution_count": 25,
     "metadata": {},
     "output_type": "execute_result"
    }
   ],
   "source": [
    "import pandas as pd\n",
    "df_notas = pd.DataFrame(notas)\n",
    "df_notas.head()"
   ]
  },
  {
   "cell_type": "code",
   "execution_count": 26,
   "id": "462d880e",
   "metadata": {},
   "outputs": [
    {
     "data": {
      "text/plain": [
       "x    5.0\n",
       "y    5.0\n",
       "z    5.0\n",
       "w    5.0\n",
       "v    5.0\n",
       "dtype: float64"
      ]
     },
     "execution_count": 26,
     "metadata": {},
     "output_type": "execute_result"
    }
   ],
   "source": [
    "df_notas.mean()"
   ]
  },
  {
   "cell_type": "markdown",
   "id": "b5564607",
   "metadata": {},
   "source": [
    "Ao analisar os conjuntos de dados x, y, z, w e v, podemos observar que a a média é igual a 5 em todos os casos, isso não fornece informações sobre suas diferentes variabilidades. É importante considerar medidas que resumam a variabilidade de um conjunto de observações, permitindo-nos comparar conjuntos de valores diferentes de acordo com critérios estabelecidos. Duas medidas amplamente utilizadas para esse propósito são o desvio médio e a variância."
   ]
  },
  {
   "cell_type": "code",
   "execution_count": 30,
   "id": "d798b5ea",
   "metadata": {
    "scrolled": true
   },
   "outputs": [
    {
     "name": "stdout",
     "output_type": "stream",
     "text": [
      "0   -2.0\n",
      "1   -1.0\n",
      "2    0.0\n",
      "3    1.0\n",
      "4    2.0\n",
      "Name: x, dtype: float64\n"
     ]
    }
   ],
   "source": [
    "desvio_medio = df_notas['x'] - df_notas['x'].mean()\n",
    "print(desvio_medio)\n"
   ]
  },
  {
   "cell_type": "markdown",
   "id": "26be6bad",
   "metadata": {},
   "source": [
    "No exemplo dado para o grupo A, os desvios em relação à média são -2, -1, 0, 1, 2. É importante notar que a soma desses desvios é sempre igual a zero para qualquer conjunto de dados. Isso ocorre porque os valores acima da média são compensados pelos valores abaixo da média, resultando em um cancelamento e uma soma total igual a zero.\n",
    "\n",
    "Porém, apenas a soma dos desvios não é uma medida adequada de dispersão, pois acaba se anulando. Nesse caso, não conseguimos ter uma noção clara da variabilidade dos dados."
   ]
  },
  {
   "cell_type": "code",
   "execution_count": 31,
   "id": "3d77d3d5",
   "metadata": {},
   "outputs": [
    {
     "data": {
      "text/plain": [
       "x    1.581139\n",
       "y    3.162278\n",
       "z    0.000000\n",
       "w    1.632993\n",
       "v    1.224745\n",
       "dtype: float64"
      ]
     },
     "execution_count": 31,
     "metadata": {},
     "output_type": "execute_result"
    }
   ],
   "source": [
    "df_notas.std()"
   ]
  }
 ],
 "metadata": {
  "kernelspec": {
   "display_name": "Python 3 (ipykernel)",
   "language": "python",
   "name": "python3"
  },
  "language_info": {
   "codemirror_mode": {
    "name": "ipython",
    "version": 3
   },
   "file_extension": ".py",
   "mimetype": "text/x-python",
   "name": "python",
   "nbconvert_exporter": "python",
   "pygments_lexer": "ipython3",
   "version": "3.11.3"
  }
 },
 "nbformat": 4,
 "nbformat_minor": 5
}
